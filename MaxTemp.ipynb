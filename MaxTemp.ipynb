{
 "cells": [
  {
   "cell_type": "code",
   "execution_count": 14,
   "metadata": {
    "collapsed": true,
    "nbpresent": {
     "id": "4ee82c8d-4c52-4832-951e-7392f3331b6f"
    }
   },
   "outputs": [],
   "source": [
    "import collections\n",
    "import datetime\n",
    "import time"
   ]
  },
  {
   "cell_type": "code",
   "execution_count": 30,
   "metadata": {
    "collapsed": false,
    "nbpresent": {
     "id": "c52b2154-0845-4d82-ac61-6b7ffd9fec23"
    }
   },
   "outputs": [
    {
     "name": "stdout",
     "output_type": "stream",
     "text": [
      "1466636544\n",
      "https://api.forecast.io/forecast/7d19355e20465a946c9207815d652a28/39.761850,-104.881105,1466636544\n",
      "https://api.forecast.io/forecast/7d19355e20465a946c9207815d652a28/47.620499,-122.350876,1466636544\n",
      "https://api.forecast.io/forecast/7d19355e20465a946c9207815d652a28/41.478462,-81.679435,1466636544\n",
      "https://api.forecast.io/forecast/7d19355e20465a946c9207815d652a28/38.904103,-77.017229,1466636544\n",
      "https://api.forecast.io/forecast/7d19355e20465a946c9207815d652a28/44.963324,-93.268320,1466636544\n"
     ]
    }
   ],
   "source": [
    "cityloc=collections.defaultdict()\n",
    "cityloc={'Denver':'39.761850,-104.881105','Cleveland':'41.478462,-81.679435','Minneapolis':'44.963324,-93.268320','Washington':'38.904103,-77.017229','Seattle':'47.620499,-122.350876'}\n",
    "\n",
    "APIkey='7d19355e20465a946c9207815d652a28'\n",
    "\n",
    "URLbase='https://api.forecast.io/forecast/'\n",
    "startdate=datetime.datetime.now()-datetime.timedelta(days=30)\n",
    "for key,val in cityloc.items():    \n",
    "    print(URLbase+APIkey+'/'+val+','+str(round(int(time.mktime(startdate.timetuple())),0)))"
   ]
  }
 ],
 "metadata": {
  "kernelspec": {
   "display_name": "Python [Root]",
   "language": "python",
   "name": "Python [Root]"
  },
  "language_info": {
   "codemirror_mode": {
    "name": "ipython",
    "version": 3
   },
   "file_extension": ".py",
   "mimetype": "text/x-python",
   "name": "python",
   "nbconvert_exporter": "python",
   "pygments_lexer": "ipython3",
   "version": "3.5.1"
  },
  "nbpresent": {
   "slides": {
    "8cb25899-e00a-4e2f-9979-151e84293432": {
     "id": "8cb25899-e00a-4e2f-9979-151e84293432",
     "prev": null,
     "regions": {
      "4ffac5a2-1bb8-4ba9-aec1-fd9d220a946b": {
       "attrs": {
        "height": 0.8,
        "width": 0.8,
        "x": 0.1,
        "y": 0.1
       },
       "content": {
        "cell": "4ee82c8d-4c52-4832-951e-7392f3331b6f",
        "part": "whole"
       },
       "id": "4ffac5a2-1bb8-4ba9-aec1-fd9d220a946b"
      }
     }
    },
    "c9891b73-6aab-42ab-bfcb-0019708e8d48": {
     "id": "c9891b73-6aab-42ab-bfcb-0019708e8d48",
     "prev": "8cb25899-e00a-4e2f-9979-151e84293432",
     "regions": {
      "01159a6a-98ef-416a-b389-ea1ed2c409be": {
       "attrs": {
        "height": 0.8,
        "width": 0.8,
        "x": 0.1,
        "y": 0.1
       },
       "content": {
        "cell": "c52b2154-0845-4d82-ac61-6b7ffd9fec23",
        "part": "whole"
       },
       "id": "01159a6a-98ef-416a-b389-ea1ed2c409be"
      }
     }
    }
   },
   "themes": {}
  }
 },
 "nbformat": 4,
 "nbformat_minor": 0
}
